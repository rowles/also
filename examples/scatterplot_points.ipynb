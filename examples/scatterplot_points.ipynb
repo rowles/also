{
 "cells": [
  {
   "cell_type": "code",
   "execution_count": 66,
   "metadata": {},
   "outputs": [],
   "source": [
    "import also\n",
    "\n",
    "import numpy as np\n",
    "import matplotlib.pyplot as plt\n",
    "\n",
    "from sklearn.linear_model import LinearRegression\n",
    "from sklearn.preprocessing import scale"
   ]
  },
  {
   "cell_type": "code",
   "execution_count": 67,
   "metadata": {},
   "outputs": [
    {
     "name": "stdout",
     "output_type": "stream",
     "text": [
      "We have 38 points\n"
     ]
    }
   ],
   "source": [
    "points = [\n",
    "    (0, 0),\n",
    "    (1, 1.01),\n",
    "    (2.02, 1.99),\n",
    "    (3.01, 3.02),\n",
    "    (4, 4),\n",
    "    (5, 5),\n",
    "    (7.5, 8.9),\n",
    "    (10, 10),\n",
    "    (14, 14),\n",
    "    (16, 16),\n",
    "    (17, 17),\n",
    "    (18, 18),\n",
    "    (19, 19),\n",
    "    (20, 20),\n",
    "    (22, 22),\n",
    "    (24, 10),\n",
    "    (26, 26),\n",
    "    (28, 28),\n",
    "    (32, 32),\n",
    "    (35, 35),\n",
    "    (39, 39),\n",
    "    (40, 40),\n",
    "    (46, 46),\n",
    "    (50, 50),\n",
    "    (52, 49),\n",
    "    (55, 55),\n",
    "    (60, 72),\n",
    "    (65, 65),\n",
    "    (70, 70),\n",
    "    (75, 80),\n",
    "    (80, 81),\n",
    "    (85, 85),\n",
    "    (87, 88),\n",
    "    (90, 90),\n",
    "    (92, 92),\n",
    "    (95, 95),\n",
    "    (98, 98),\n",
    "    (100, 100),\n",
    "]\n",
    "\n",
    "points = np.array(points)\n",
    "print('We have %s points' % len(points))"
   ]
  },
  {
   "cell_type": "code",
   "execution_count": 74,
   "metadata": {},
   "outputs": [],
   "source": [
    "X = scale(np.array(points), with_mean=True)"
   ]
  },
  {
   "cell_type": "code",
   "execution_count": 75,
   "metadata": {},
   "outputs": [
    {
     "data": {
      "image/png": "[encoded data removed]",
      "text/plain": [
       "<Figure size 432x288 with 1 Axes>"
      ]
     },
     "metadata": {
      "needs_background": "light"
     },
     "output_type": "display_data"
    }
   ],
   "source": [
    "# plot scaled features\n",
    "plt.plot(X[:,0], X[:,1], 'o')\n",
    "plt.show()"
   ]
  },
  {
   "cell_type": "code",
   "execution_count": 76,
   "metadata": {},
   "outputs": [
    {
     "name": "stdout",
     "output_type": "stream",
     "text": [
      "CPU times: user 6.03 ms, sys: 272 µs, total: 6.3 ms\n",
      "Wall time: 5.7 ms\n"
     ]
    }
   ],
   "source": [
    "%%time\n",
    "# run ALSO using Linear Regressor and 3 folds\n",
    "m = LinearRegression()\n",
    "scores = also.fit(m, X, n_folds=3)"
   ]
  },
  {
   "cell_type": "code",
   "execution_count": 77,
   "metadata": {
    "scrolled": true
   },
   "outputs": [
    {
     "data": {
      "image/png": "[encoded data removed]",
      "text/plain": [
       "<Figure size 432x288 with 1 Axes>"
      ]
     },
     "metadata": {
      "needs_background": "light"
     },
     "output_type": "display_data"
    }
   ],
   "source": [
    "# plot points colorized with outlier scores\n",
    "plt.scatter(x=X[:,0], y=X[:,1], c=scores)\n",
    "plt.show()"
   ]
  },
  {
   "cell_type": "code",
   "execution_count": 61,
   "metadata": {},
   "outputs": [
    {
     "data": {
      "text/plain": [
       "[(array([24., 10.]), 0.4463845981458128),\n",
       " (array([60., 72.]), 0.3919720908303756),\n",
       " (array([75., 80.]), 0.1800418765266062),\n",
       " (array([52., 49.]), 0.11964086667493753),\n",
       " (array([7.5, 8.9]), 0.11262004017556577)]"
      ]
     },
     "execution_count": 61,
     "metadata": {},
     "output_type": "execute_result"
    }
   ],
   "source": [
    "# sort the points by outlier score and look at the top five\n",
    "sorted_points = sorted(zip(points, scores), key=lambda x: x[1], reverse=True)\n",
    "sorted_points[:5]"
   ]
  },
  {
   "cell_type": "code",
   "execution_count": 62,
   "metadata": {},
   "outputs": [
    {
     "data": {
      "image/png": "[encoded data removed]",
      "text/plain": [
       "<Figure size 432x288 with 1 Axes>"
      ]
     },
     "metadata": {
      "needs_background": "light"
     },
     "output_type": "display_data"
    }
   ],
   "source": [
    "# histogram of outlier scores\n",
    "hist = plt.hist(scores)"
   ]
  },
  {
   "cell_type": "code",
   "execution_count": 63,
   "metadata": {},
   "outputs": [
    {
     "name": "stdout",
     "output_type": "stream",
     "text": [
      "mean:       0.07237394665597062\n",
      "std dev:    0.08836427253457635\n",
      "two sigma:  (-0.10435459841318208, 0.24910249172512333)\n"
     ]
    }
   ],
   "source": [
    "# compute mean, std dev, and two sigma for outlier scores\n",
    "mu = np.mean(scores)\n",
    "s = np.std(scores)\n",
    "two_sig = (scores.mean() - 2 * scores.std(), scores.mean() + 2 * scores.std())\n",
    "\n",
    "print('mean:      ', mu)\n",
    "print('std dev:   ', s)\n",
    "print('two sigma: ', two_sig)"
   ]
  },
  {
   "cell_type": "code",
   "execution_count": 65,
   "metadata": {},
   "outputs": [
    {
     "name": "stdout",
     "output_type": "stream",
     "text": [
      "[24. 10.] 0.4463845981458128\n",
      "[60. 72.] 0.3919720908303756\n"
     ]
    }
   ],
   "source": [
    "# find all scores beyond two sigma bound\n",
    "for point, score in sorted_points:\n",
    "    if score > two_sig[1] or score < two_sig[0]:\n",
    "        print('%s %s' % (point, score))"
   ]
  },
  {
   "cell_type": "code",
   "execution_count": null,
   "metadata": {},
   "outputs": [],
   "source": []
  }
 ],
 "metadata": {
  "kernelspec": {
   "display_name": "Python 3 (ipykernel)",
   "language": "python",
   "name": "python3"
  },
  "language_info": {
   "codemirror_mode": {
    "name": "ipython",
    "version": 3
   },
   "file_extension": ".py",
   "mimetype": "text/x-python",
   "name": "python",
   "nbconvert_exporter": "python",
   "pygments_lexer": "ipython3",
   "version": "3.8.5"
  }
 },
 "nbformat": 4,
 "nbformat_minor": 4
}
